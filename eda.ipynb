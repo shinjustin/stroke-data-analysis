{
 "cells": [
  {
   "cell_type": "code",
   "execution_count": 1,
   "id": "a39372dd",
   "metadata": {},
   "outputs": [],
   "source": [
    "import pandas as pd\n",
    "import numpy as np\n",
    "import matplotlib.pyplot as plt\n",
    "import seaborn as sns"
   ]
  },
  {
   "cell_type": "code",
   "execution_count": 2,
   "id": "11562a48",
   "metadata": {},
   "outputs": [],
   "source": [
    "df = pd.read_csv('stroke.csv')"
   ]
  },
  {
   "cell_type": "code",
   "execution_count": 3,
   "id": "cffc0273",
   "metadata": {},
   "outputs": [],
   "source": [
    "# drop irrelevant column\n",
    "df = df.drop(\"id\", axis=1)"
   ]
  },
  {
   "cell_type": "code",
   "execution_count": 4,
   "id": "0df7bb80",
   "metadata": {},
   "outputs": [
    {
     "data": {
      "text/html": [
       "<div>\n",
       "<style scoped>\n",
       "    .dataframe tbody tr th:only-of-type {\n",
       "        vertical-align: middle;\n",
       "    }\n",
       "\n",
       "    .dataframe tbody tr th {\n",
       "        vertical-align: top;\n",
       "    }\n",
       "\n",
       "    .dataframe thead th {\n",
       "        text-align: right;\n",
       "    }\n",
       "</style>\n",
       "<table border=\"1\" class=\"dataframe\">\n",
       "  <thead>\n",
       "    <tr style=\"text-align: right;\">\n",
       "      <th></th>\n",
       "      <th>gender</th>\n",
       "      <th>age</th>\n",
       "      <th>hypertension</th>\n",
       "      <th>heart_disease</th>\n",
       "      <th>ever_married</th>\n",
       "      <th>work_type</th>\n",
       "      <th>Residence_type</th>\n",
       "      <th>avg_glucose_level</th>\n",
       "      <th>bmi</th>\n",
       "      <th>smoking_status</th>\n",
       "      <th>stroke</th>\n",
       "    </tr>\n",
       "  </thead>\n",
       "  <tbody>\n",
       "    <tr>\n",
       "      <th>0</th>\n",
       "      <td>Male</td>\n",
       "      <td>67.0</td>\n",
       "      <td>0</td>\n",
       "      <td>1</td>\n",
       "      <td>Yes</td>\n",
       "      <td>Private</td>\n",
       "      <td>Urban</td>\n",
       "      <td>228.69</td>\n",
       "      <td>36.6</td>\n",
       "      <td>formerly smoked</td>\n",
       "      <td>1</td>\n",
       "    </tr>\n",
       "    <tr>\n",
       "      <th>1</th>\n",
       "      <td>Female</td>\n",
       "      <td>61.0</td>\n",
       "      <td>0</td>\n",
       "      <td>0</td>\n",
       "      <td>Yes</td>\n",
       "      <td>Self-employed</td>\n",
       "      <td>Rural</td>\n",
       "      <td>202.21</td>\n",
       "      <td>NaN</td>\n",
       "      <td>never smoked</td>\n",
       "      <td>1</td>\n",
       "    </tr>\n",
       "    <tr>\n",
       "      <th>2</th>\n",
       "      <td>Male</td>\n",
       "      <td>80.0</td>\n",
       "      <td>0</td>\n",
       "      <td>1</td>\n",
       "      <td>Yes</td>\n",
       "      <td>Private</td>\n",
       "      <td>Rural</td>\n",
       "      <td>105.92</td>\n",
       "      <td>32.5</td>\n",
       "      <td>never smoked</td>\n",
       "      <td>1</td>\n",
       "    </tr>\n",
       "    <tr>\n",
       "      <th>3</th>\n",
       "      <td>Female</td>\n",
       "      <td>49.0</td>\n",
       "      <td>0</td>\n",
       "      <td>0</td>\n",
       "      <td>Yes</td>\n",
       "      <td>Private</td>\n",
       "      <td>Urban</td>\n",
       "      <td>171.23</td>\n",
       "      <td>34.4</td>\n",
       "      <td>smokes</td>\n",
       "      <td>1</td>\n",
       "    </tr>\n",
       "    <tr>\n",
       "      <th>4</th>\n",
       "      <td>Female</td>\n",
       "      <td>79.0</td>\n",
       "      <td>1</td>\n",
       "      <td>0</td>\n",
       "      <td>Yes</td>\n",
       "      <td>Self-employed</td>\n",
       "      <td>Rural</td>\n",
       "      <td>174.12</td>\n",
       "      <td>24.0</td>\n",
       "      <td>never smoked</td>\n",
       "      <td>1</td>\n",
       "    </tr>\n",
       "  </tbody>\n",
       "</table>\n",
       "</div>"
      ],
      "text/plain": [
       "   gender   age  hypertension  heart_disease ever_married      work_type  \\\n",
       "0    Male  67.0             0              1          Yes        Private   \n",
       "1  Female  61.0             0              0          Yes  Self-employed   \n",
       "2    Male  80.0             0              1          Yes        Private   \n",
       "3  Female  49.0             0              0          Yes        Private   \n",
       "4  Female  79.0             1              0          Yes  Self-employed   \n",
       "\n",
       "  Residence_type  avg_glucose_level   bmi   smoking_status  stroke  \n",
       "0          Urban             228.69  36.6  formerly smoked       1  \n",
       "1          Rural             202.21   NaN     never smoked       1  \n",
       "2          Rural             105.92  32.5     never smoked       1  \n",
       "3          Urban             171.23  34.4           smokes       1  \n",
       "4          Rural             174.12  24.0     never smoked       1  "
      ]
     },
     "execution_count": 4,
     "metadata": {},
     "output_type": "execute_result"
    }
   ],
   "source": [
    "df.head()"
   ]
  },
  {
   "cell_type": "code",
   "execution_count": 5,
   "id": "e5d6c0a6",
   "metadata": {},
   "outputs": [
    {
     "name": "stdout",
     "output_type": "stream",
     "text": [
      "<class 'pandas.core.frame.DataFrame'>\n",
      "RangeIndex: 5110 entries, 0 to 5109\n",
      "Data columns (total 11 columns):\n",
      " #   Column             Non-Null Count  Dtype  \n",
      "---  ------             --------------  -----  \n",
      " 0   gender             5110 non-null   object \n",
      " 1   age                5110 non-null   float64\n",
      " 2   hypertension       5110 non-null   int64  \n",
      " 3   heart_disease      5110 non-null   int64  \n",
      " 4   ever_married       5110 non-null   object \n",
      " 5   work_type          5110 non-null   object \n",
      " 6   Residence_type     5110 non-null   object \n",
      " 7   avg_glucose_level  5110 non-null   float64\n",
      " 8   bmi                4909 non-null   float64\n",
      " 9   smoking_status     5110 non-null   object \n",
      " 10  stroke             5110 non-null   int64  \n",
      "dtypes: float64(3), int64(3), object(5)\n",
      "memory usage: 439.3+ KB\n"
     ]
    }
   ],
   "source": [
    "# identify null\n",
    "df.info()"
   ]
  },
  {
   "cell_type": "code",
   "execution_count": 6,
   "id": "8a04a7d4",
   "metadata": {},
   "outputs": [
    {
     "data": {
      "text/plain": [
       "bmi                  201\n",
       "gender                 0\n",
       "age                    0\n",
       "hypertension           0\n",
       "heart_disease          0\n",
       "ever_married           0\n",
       "work_type              0\n",
       "Residence_type         0\n",
       "avg_glucose_level      0\n",
       "smoking_status         0\n",
       "stroke                 0\n",
       "dtype: int64"
      ]
     },
     "execution_count": 6,
     "metadata": {},
     "output_type": "execute_result"
    }
   ],
   "source": [
    "# show null count (only bmi has null values)\n",
    "df.isnull().sum().sort_values(ascending = False)"
   ]
  },
  {
   "cell_type": "code",
   "execution_count": 7,
   "id": "6657bab8",
   "metadata": {},
   "outputs": [],
   "source": [
    "# Categorical Features\n",
    "cat_feats = ['hypertension', 'heart_disease', 'smoking_status', 'work_type', 'ever_married', 'gender', 'Residence_type']"
   ]
  },
  {
   "cell_type": "code",
   "execution_count": 8,
   "id": "94b12746",
   "metadata": {},
   "outputs": [
    {
     "name": "stdout",
     "output_type": "stream",
     "text": [
      "   hypertension    stroke\n",
      "1             1  0.132530\n",
      "0             0  0.039679\n",
      "------------------------------\n",
      "   heart_disease    stroke\n",
      "1              1  0.170290\n",
      "0              0  0.041787\n",
      "------------------------------\n",
      "    smoking_status    stroke\n",
      "1  formerly smoked  0.079096\n",
      "3           smokes  0.053232\n",
      "2     never smoked  0.047569\n",
      "0          Unknown  0.030440\n",
      "------------------------------\n",
      "       work_type    stroke\n",
      "3  Self-employed  0.079365\n",
      "2        Private  0.050940\n",
      "0       Govt_job  0.050228\n",
      "4       children  0.002911\n",
      "1   Never_worked  0.000000\n",
      "------------------------------\n",
      "  ever_married    stroke\n",
      "1          Yes  0.065613\n",
      "0           No  0.016505\n",
      "------------------------------\n",
      "   gender    stroke\n",
      "1    Male  0.051064\n",
      "0  Female  0.047094\n",
      "2   Other  0.000000\n",
      "------------------------------\n",
      "  Residence_type    stroke\n",
      "1          Urban  0.052003\n",
      "0          Rural  0.045346\n",
      "------------------------------\n"
     ]
    }
   ],
   "source": [
    "for feat in cat_feats:\n",
    "    prob = df[[feat, 'stroke']].groupby(feat, as_index = False).mean().sort_values(by = 'stroke', ascending = False)\n",
    "    print(prob)\n",
    "    print('-'*30)"
   ]
  },
  {
   "cell_type": "code",
   "execution_count": 9,
   "id": "0d3898bb",
   "metadata": {},
   "outputs": [
    {
     "data": {
      "text/plain": [
       "<AxesSubplot:xlabel='hypertension', ylabel='stroke'>"
      ]
     },
     "execution_count": 9,
     "metadata": {},
     "output_type": "execute_result"
    },
    {
     "data": {
      "image/png": "[encoded data removed]",
      "text/plain": [
       "<Figure size 432x288 with 1 Axes>"
      ]
     },
     "metadata": {
      "needs_background": "light"
     },
     "output_type": "display_data"
    }
   ],
   "source": [
    "# those with hypertension have high chance of stroke\n",
    "prob = df[['hypertension', 'stroke']].groupby('hypertension', as_index = False).mean().sort_values(by = 'stroke', ascending = False)\n",
    "sns.barplot(x='hypertension', y='stroke', data=prob)"
   ]
  },
  {
   "cell_type": "code",
   "execution_count": 10,
   "id": "68831a8b",
   "metadata": {},
   "outputs": [
    {
     "data": {
      "text/plain": [
       "<AxesSubplot:xlabel='heart_disease', ylabel='stroke'>"
      ]
     },
     "execution_count": 10,
     "metadata": {},
     "output_type": "execute_result"
    },
    {
     "data": {
      "image/png": "[encoded data removed]",
      "text/plain": [
       "<Figure size 432x288 with 1 Axes>"
      ]
     },
     "metadata": {
      "needs_background": "light"
     },
     "output_type": "display_data"
    }
   ],
   "source": [
    "# those with heart disease have high chance of stroke\n",
    "prob = df[['heart_disease', 'stroke']].groupby('heart_disease', as_index = False).mean().sort_values(by = 'stroke', ascending = False)\n",
    "sns.barplot(x='heart_disease', y='stroke', data=prob)"
   ]
  },
  {
   "cell_type": "code",
   "execution_count": 11,
   "id": "57d82c7e",
   "metadata": {},
   "outputs": [
    {
     "data": {
      "text/plain": [
       "<AxesSubplot:xlabel='smoking_status', ylabel='stroke'>"
      ]
     },
     "execution_count": 11,
     "metadata": {},
     "output_type": "execute_result"
    },
    {
     "data": {
      "image/png": "[encoded data removed]",
      "text/plain": [
       "<Figure size 432x288 with 1 Axes>"
      ]
     },
     "metadata": {
      "needs_background": "light"
     },
     "output_type": "display_data"
    }
   ],
   "source": [
    "# those who have smoked or still smokes have higher chance of stroke\n",
    "prob = df[['smoking_status', 'stroke']].groupby('smoking_status', as_index = False).mean().sort_values(by = 'stroke', ascending = False)\n",
    "sns.barplot(x='smoking_status', y='stroke', data=prob)"
   ]
  },
  {
   "cell_type": "code",
   "execution_count": 12,
   "id": "aa2221e1",
   "metadata": {},
   "outputs": [
    {
     "data": {
      "text/plain": [
       "<AxesSubplot:xlabel='work_type', ylabel='stroke'>"
      ]
     },
     "execution_count": 12,
     "metadata": {},
     "output_type": "execute_result"
    },
    {
     "data": {
      "image/png": "[encoded data removed]",
      "text/plain": [
       "<Figure size 432x288 with 1 Axes>"
      ]
     },
     "metadata": {
      "needs_background": "light"
     },
     "output_type": "display_data"
    }
   ],
   "source": [
    "# those who are self-employed have higher chance of stroke\n",
    "prob = df[['work_type', 'stroke']].groupby('work_type', as_index = False).mean().sort_values(by = 'stroke', ascending = False)\n",
    "sns.barplot(x='work_type', y='stroke', data=prob)"
   ]
  },
  {
   "cell_type": "code",
   "execution_count": 33,
   "id": "2fcc7dce",
   "metadata": {},
   "outputs": [
    {
     "data": {
      "text/plain": [
       "<AxesSubplot:xlabel='ever_married', ylabel='stroke'>"
      ]
     },
     "execution_count": 33,
     "metadata": {},
     "output_type": "execute_result"
    },
    {
     "data": {
      "image/png": "[encoded data removed]",
      "text/plain": [
       "<Figure size 432x288 with 1 Axes>"
      ]
     },
     "metadata": {
      "needs_background": "light"
     },
     "output_type": "display_data"
    }
   ],
   "source": [
    "# those who were married have higher chance of stroke\n",
    "prob = df[['ever_married', 'stroke', 'age']].where(df['age'] > 21).groupby('ever_married', as_index = False).mean().sort_values(by = 'stroke', ascending = False)\n",
    "sns.barplot(x='ever_married', y='stroke', data=prob)"
   ]
  },
  {
   "cell_type": "code",
   "execution_count": 14,
   "id": "676c6d75",
   "metadata": {},
   "outputs": [
    {
     "data": {
      "text/plain": [
       "<AxesSubplot:xlabel='gender', ylabel='stroke'>"
      ]
     },
     "execution_count": 14,
     "metadata": {},
     "output_type": "execute_result"
    },
    {
     "data": {
      "image/png": "[encoded data removed]",
      "text/plain": [
       "<Figure size 432x288 with 1 Axes>"
      ]
     },
     "metadata": {
      "needs_background": "light"
     },
     "output_type": "display_data"
    }
   ],
   "source": [
    "prob = df[['gender', 'stroke']].groupby('gender', as_index = False).mean().sort_values(by = 'stroke', ascending = False)\n",
    "sns.barplot(x='gender', y='stroke', data=prob)"
   ]
  },
  {
   "cell_type": "code",
   "execution_count": 15,
   "id": "50b4d1df",
   "metadata": {},
   "outputs": [
    {
     "data": {
      "text/plain": [
       "<AxesSubplot:xlabel='Residence_type', ylabel='stroke'>"
      ]
     },
     "execution_count": 15,
     "metadata": {},
     "output_type": "execute_result"
    },
    {
     "data": {
      "image/png": "[encoded data removed]",
      "text/plain": [
       "<Figure size 432x288 with 1 Axes>"
      ]
     },
     "metadata": {
      "needs_background": "light"
     },
     "output_type": "display_data"
    }
   ],
   "source": [
    "prob = df[['Residence_type', 'stroke']].groupby('Residence_type', as_index = False).mean().sort_values(by = 'stroke', ascending = False)\n",
    "sns.barplot(x='Residence_type', y='stroke', data=prob)"
   ]
  },
  {
   "cell_type": "code",
   "execution_count": 16,
   "id": "c868a25a",
   "metadata": {},
   "outputs": [],
   "source": [
    "# Numerical Features\n",
    "num_feats = ['bmi', 'age', 'avg_glucose_level']"
   ]
  },
  {
   "cell_type": "code",
   "execution_count": 17,
   "id": "8f099750",
   "metadata": {
    "scrolled": true
   },
   "outputs": [
    {
     "name": "stdout",
     "output_type": "stream",
     "text": [
      "count    4909.000000\n",
      "mean       28.893237\n",
      "std         7.854067\n",
      "min        10.300000\n",
      "25%        23.500000\n",
      "50%        28.100000\n",
      "75%        33.100000\n",
      "max        97.600000\n",
      "Name: bmi, dtype: float64\n",
      "------------------------------\n",
      "count    5110.000000\n",
      "mean       43.226614\n",
      "std        22.612647\n",
      "min         0.080000\n",
      "25%        25.000000\n",
      "50%        45.000000\n",
      "75%        61.000000\n",
      "max        82.000000\n",
      "Name: age, dtype: float64\n",
      "------------------------------\n",
      "count    5110.000000\n",
      "mean      106.147677\n",
      "std        45.283560\n",
      "min        55.120000\n",
      "25%        77.245000\n",
      "50%        91.885000\n",
      "75%       114.090000\n",
      "max       271.740000\n",
      "Name: avg_glucose_level, dtype: float64\n",
      "------------------------------\n"
     ]
    }
   ],
   "source": [
    "# stats on numerical features\n",
    "for feat in num_feats:\n",
    "    print(df[feat].describe())\n",
    "    print('-'*30)"
   ]
  },
  {
   "cell_type": "code",
   "execution_count": 18,
   "id": "ed76f3de",
   "metadata": {},
   "outputs": [
    {
     "data": {
      "text/plain": [
       "<AxesSubplot:>"
      ]
     },
     "execution_count": 18,
     "metadata": {},
     "output_type": "execute_result"
    },
    {
     "data": {
      "image/png": "[encoded data removed]",
      "text/plain": [
       "<Figure size 432x288 with 2 Axes>"
      ]
     },
     "metadata": {
      "needs_background": "light"
     },
     "output_type": "display_data"
    }
   ],
   "source": [
    "# correlation between numerical features\n",
    "corr = df[['stroke', 'bmi', 'age', 'avg_glucose_level']].corr()\n",
    "sns.heatmap(corr, annot=True, fmt='.2f', cmap='coolwarm')"
   ]
  },
  {
   "cell_type": "code",
   "execution_count": 19,
   "id": "7e310aa8",
   "metadata": {},
   "outputs": [
    {
     "data": {
      "text/plain": [
       "<seaborn.axisgrid.FacetGrid at 0x7f3a1c943520>"
      ]
     },
     "execution_count": 19,
     "metadata": {},
     "output_type": "execute_result"
    },
    {
     "data": {
      "image/png": "[encoded data removed]",
      "text/plain": [
       "<Figure size 432x216 with 2 Axes>"
      ]
     },
     "metadata": {
      "needs_background": "light"
     },
     "output_type": "display_data"
    }
   ],
   "source": [
    "# age distribution by stroke (older the patient, higher the chance of stroke)\n",
    "grid = sns.FacetGrid(df, col='stroke')\n",
    "grid.map(sns.histplot, 'bmi')"
   ]
  },
  {
   "cell_type": "code",
   "execution_count": 20,
   "id": "34d59188",
   "metadata": {},
   "outputs": [
    {
     "data": {
      "text/plain": [
       "<AxesSubplot:ylabel='stroke'>"
      ]
     },
     "execution_count": 20,
     "metadata": {},
     "output_type": "execute_result"
    },
    {
     "data": {
      "image/png": "[encoded data removed]",
      "text/plain": [
       "<Figure size 432x288 with 1 Axes>"
      ]
     },
     "metadata": {},
     "output_type": "display_data"
    }
   ],
   "source": [
    "df['stroke'].value_counts().plot.pie(autopct='%1.1f%%')"
   ]
  },
  {
   "cell_type": "code",
   "execution_count": 21,
   "id": "6f316253",
   "metadata": {},
   "outputs": [
    {
     "data": {
      "text/plain": [
       "<AxesSubplot:xlabel='bmi', ylabel='Count'>"
      ]
     },
     "execution_count": 21,
     "metadata": {},
     "output_type": "execute_result"
    },
    {
     "data": {
      "image/png": "[encoded data removed]",
      "text/plain": [
       "<Figure size 432x288 with 1 Axes>"
      ]
     },
     "metadata": {
      "needs_background": "light"
     },
     "output_type": "display_data"
    }
   ],
   "source": [
    "sns.histplot(data=df, x='bmi', hue='stroke', binwidth=1, kde=True)"
   ]
  },
  {
   "cell_type": "code",
   "execution_count": 22,
   "id": "eb9dee16",
   "metadata": {},
   "outputs": [
    {
     "name": "stdout",
     "output_type": "stream",
     "text": [
      "age       0.08\n",
      "stroke    0.00\n",
      "dtype: float64\n"
     ]
    }
   ],
   "source": [
    "prob = df[['age', 'stroke']].groupby('age', as_index = False).mean().sort_values(by = 'stroke', ascending = False)\n",
    "print(prob.min())"
   ]
  },
  {
   "cell_type": "code",
   "execution_count": 23,
   "id": "7cbe53ee",
   "metadata": {},
   "outputs": [
    {
     "name": "stdout",
     "output_type": "stream",
     "text": [
      "     gender   age  hypertension  heart_disease ever_married work_type  \\\n",
      "3116  Other  26.0             0              0           No   Private   \n",
      "\n",
      "     Residence_type  avg_glucose_level   bmi   smoking_status  stroke  \n",
      "3116          Rural             143.33  22.4  formerly smoked       0  \n"
     ]
    }
   ],
   "source": [
    "prob = df[df['gender']=='Other']\n",
    "print(prob)"
   ]
  }
 ],
 "metadata": {
  "kernelspec": {
   "display_name": "Python 3 (ipykernel)",
   "language": "python",
   "name": "python3"
  },
  "language_info": {
   "codemirror_mode": {
    "name": "ipython",
    "version": 3
   },
   "file_extension": ".py",
   "mimetype": "text/x-python",
   "name": "python",
   "nbconvert_exporter": "python",
   "pygments_lexer": "ipython3",
   "version": "3.10.8"
  }
 },
 "nbformat": 4,
 "nbformat_minor": 5
}
