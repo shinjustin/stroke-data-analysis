{
 "cells": [
  {
   "cell_type": "code",
   "execution_count": 319,
   "id": "0735886a",
   "metadata": {},
   "outputs": [],
   "source": [
    "import pandas as pd\n",
    "import itertools\n",
    "from sklearn.model_selection import train_test_split\n",
    "from sklearn.linear_model import LogisticRegression\n",
    "from sklearn.tree import DecisionTreeClassifier\n",
    "from sklearn.metrics import roc_auc_score, roc_curve, accuracy_score\n",
    "from sklearn.metrics import confusion_matrix, ConfusionMatrixDisplay, classification_report\n",
    "from sklearn.preprocessing import StandardScaler\n",
    "import matplotlib.pyplot as plt\n",
    "import torch\n",
    "import numpy as np\n",
    "from torch.utils.data import Dataset, DataLoader\n",
    "from torch import nn\n",
    "from torch import optim\n",
    "import seaborn as sns\n",
    "from imblearn.under_sampling import RandomUnderSampler\n",
    "from imblearn.over_sampling import SMOTE\n",
    "from imblearn.over_sampling import RandomOverSampler\n",
    "import warnings\n",
    "warnings.filterwarnings(\"ignore\")"
   ]
  },
  {
   "cell_type": "code",
   "execution_count": 320,
   "id": "f13a331d",
   "metadata": {},
   "outputs": [],
   "source": [
    "df = pd.read_csv('stroke.csv')"
   ]
  },
  {
   "cell_type": "code",
   "execution_count": 321,
   "id": "fc16b222",
   "metadata": {},
   "outputs": [],
   "source": [
    "# Pre-processing\n"
   ]
  },
  {
   "cell_type": "code",
   "execution_count": 322,
   "id": "71b1f32c",
   "metadata": {},
   "outputs": [],
   "source": [
    "# Remove Id Field"
   ]
  },
  {
   "cell_type": "code",
   "execution_count": 323,
   "id": "613d19ac",
   "metadata": {},
   "outputs": [],
   "source": [
    "df = df.drop(\"id\", axis=1)"
   ]
  },
  {
   "cell_type": "code",
   "execution_count": 324,
   "id": "9d5015b5",
   "metadata": {},
   "outputs": [],
   "source": [
    "# Dropping all rows with Nan Values"
   ]
  },
  {
   "cell_type": "code",
   "execution_count": 325,
   "id": "250d7865",
   "metadata": {},
   "outputs": [],
   "source": [
    "df = df.dropna()"
   ]
  },
  {
   "cell_type": "code",
   "execution_count": 326,
   "id": "92e56bdf",
   "metadata": {},
   "outputs": [
    {
     "data": {
      "text/plain": [
       "0    4700\n",
       "1     209\n",
       "Name: stroke, dtype: int64"
      ]
     },
     "execution_count": 326,
     "metadata": {},
     "output_type": "execute_result"
    }
   ],
   "source": [
    "df['stroke'].value_counts()"
   ]
  },
  {
   "cell_type": "code",
   "execution_count": 327,
   "id": "3adb876a",
   "metadata": {},
   "outputs": [],
   "source": [
    "# Changing gender, ever-married, work_type, Residence_type, smoking_status to one hot notation\n",
    "gender = pd.get_dummies(df['gender'], prefix='gender')\n",
    "df['gender_Female'] = gender['gender_Female']\n",
    "df['gender_Male'] = gender['gender_Male']\n",
    "df['gender_Other'] = gender['gender_Other']\n",
    "df = df.drop(\"gender\", axis=1)\n",
    "residence = pd.get_dummies(df['Residence_type'], prefix='Residence_type')\n",
    "df['Residence_type_Rural'] = residence['Residence_type_Rural']\n",
    "df['Residence_type_Urban'] = residence['Residence_type_Urban']\n",
    "df = df.drop(\"Residence_type\", axis=1)\n",
    "ever_married = pd.get_dummies(df['ever_married'], prefix='ever_married')\n",
    "df['ever_married_No'] = ever_married['ever_married_No']\n",
    "df['ever_married_Yes'] = ever_married['ever_married_Yes']\n",
    "df = df.drop(\"ever_married\", axis=1)\n",
    "smoking_status = pd.get_dummies(df['smoking_status'], prefix='smoking_status')\n",
    "df['smoking_status_Unknown'] = smoking_status['smoking_status_Unknown']\n",
    "df['smoking_status_formerly smoked'] = smoking_status['smoking_status_formerly smoked']\n",
    "df['smoking_status_never smoked'] = smoking_status['smoking_status_never smoked']\n",
    "df['smoking_status_smokes'] = smoking_status['smoking_status_smokes']\n",
    "df = df.drop(\"smoking_status\", axis=1)\n",
    "work_type = pd.get_dummies(df['work_type'], prefix='work_type')\n",
    "df['work_type_Govt_job'] = work_type['work_type_Govt_job']\n",
    "df['work_type_Never_worked'] = work_type['work_type_Never_worked']\n",
    "df['work_type_Private'] = work_type['work_type_Private']\n",
    "df['work_type_Self-employed'] = work_type['work_type_Self-employed']\n",
    "df['work_type_children'] = work_type['work_type_children']\n",
    "df = df.drop(\"work_type\", axis=1)"
   ]
  },
  {
   "cell_type": "code",
   "execution_count": 328,
   "id": "1a814110",
   "metadata": {},
   "outputs": [],
   "source": [
    "# Create X and Y dataset"
   ]
  },
  {
   "cell_type": "code",
   "execution_count": 329,
   "id": "e2cddd93",
   "metadata": {},
   "outputs": [],
   "source": [
    "Y_df = df['stroke']\n",
    "X_df = df.drop(\"stroke\", axis=1)\n"
   ]
  },
  {
   "cell_type": "code",
   "execution_count": 330,
   "id": "171090b9",
   "metadata": {},
   "outputs": [
    {
     "data": {
      "text/plain": [
       "0    4700\n",
       "1    1410\n",
       "Name: stroke, dtype: int64"
      ]
     },
     "execution_count": 330,
     "metadata": {},
     "output_type": "execute_result"
    }
   ],
   "source": [
    "oversample = RandomOverSampler(sampling_strategy=0.30)\n",
    "X_df, Y_df = oversample.fit_resample(X_df, Y_df)\n",
    "Y_df.value_counts()\n",
    "#X_df.shape"
   ]
  },
  {
   "cell_type": "code",
   "execution_count": 331,
   "id": "1fe4d34b",
   "metadata": {},
   "outputs": [],
   "source": [
    "#Y_df = pd.DataFrame(Y_df)\n",
    "#Y_df['stroke'].value_counts()"
   ]
  },
  {
   "cell_type": "code",
   "execution_count": 332,
   "id": "ff0b9dfe",
   "metadata": {},
   "outputs": [
    {
     "name": "stdout",
     "output_type": "stream",
     "text": [
      "Samples in Train Set: 4277\n",
      "Samples in Test Set: 1833\n",
      "Initial Dataset\n",
      "Percent \"stroke\": 0.23521159691372456\n",
      "Balanced Dataset\n",
      "Percent \"stroke\": 0.5\n"
     ]
    }
   ],
   "source": [
    "# Neural Network Load Data -- ALL FEATURES\n",
    "(X_train, X_test, y_train, y_test) = train_test_split(X_df, Y_df, test_size=0.30)\n",
    "\n",
    "scaler = StandardScaler()\n",
    "X_train = scaler.fit_transform(X_train)\n",
    "X_test = scaler.fit_transform(X_test)\n",
    "#displays the amount of samples in each dataset\n",
    "print('Samples in Train Set:', len(X_train))\n",
    "print('Samples in Test Set:', len(X_test))\n",
    "\n",
    "\n",
    "#Displays perccent of each class\n",
    "print('Initial Dataset')\n",
    "print('Percent \"stroke\":', y_train.sum()/len(y_train))\n",
    "print('Balanced Dataset')\n",
    "print('Percent \"stroke\":', y_bal.sum()/len(y_bal))"
   ]
  },
  {
   "cell_type": "code",
   "execution_count": 333,
   "id": "e7bbc83f",
   "metadata": {},
   "outputs": [],
   "source": [
    "# Convert data to torch tensors\n",
    "#X_train = X_train.to_numpy()\n",
    "#y_train = y_bal\n",
    "#X_train = X_bal\n",
    "\n",
    "y_train = np.array(y_train)\n",
    "X_train = np.array(X_train)\n",
    "X_test = np.array(X_test)\n",
    "y_test = np.array(y_test)"
   ]
  },
  {
   "cell_type": "code",
   "execution_count": 334,
   "id": "820d8372",
   "metadata": {},
   "outputs": [],
   "source": [
    "class Data(Dataset):\n",
    "    def __init__(self, X, y):\n",
    "        self.X = torch.from_numpy(X.astype(np.float32))\n",
    "        self.y = torch.from_numpy(y.astype(np.float32))\n",
    "        self.len = self.X.shape[0]\n",
    "       \n",
    "    def __getitem__(self, index):\n",
    "        return self.X[index], self.y[index]\n",
    "   \n",
    "    def __len__(self):\n",
    "        return self.len"
   ]
  },
  {
   "cell_type": "code",
   "execution_count": 335,
   "id": "0f2b2b8c",
   "metadata": {},
   "outputs": [],
   "source": [
    "# Create Dataloader\n",
    "train_data = Data(X_train, y_train)\n",
    "train_dataloader = DataLoader(dataset=train_data, batch_size=32, shuffle=True)\n",
    "\n",
    "test_data = Data(X_test, y_test)\n",
    "test_dataloader = DataLoader(dataset=test_data, batch_size=32, shuffle=True)"
   ]
  },
  {
   "cell_type": "code",
   "execution_count": 336,
   "id": "fd60408e",
   "metadata": {},
   "outputs": [],
   "source": [
    "# Design Neural Network\n",
    "n_input = 21\n",
    "n_hidden = 8\n",
    "n_out = 1\n",
    "\n",
    "model = nn.Sequential(nn.Linear(n_input, n_hidden),\n",
    "                      nn.ReLU(),\n",
    "                      nn.Linear(n_hidden, n_out),\n",
    "                      nn.Sigmoid())"
   ]
  },
  {
   "cell_type": "code",
   "execution_count": 337,
   "id": "907e8722",
   "metadata": {},
   "outputs": [],
   "source": [
    "# Data Set is imbalanced so need to add weights for classes to loss function\n",
    "# Positive Weight = 1 - (209/4909) = 0.9575\n",
    "# Negative Weight = 1 - (4700/4909) = 0.0426\n",
    "# class_weights = torch.tensor([0.10])\n",
    "\n",
    "learning_rate = 0.01\n",
    "\n",
    "loss_fn = nn.MSELoss()\n",
    "\n",
    "optimizer = torch.optim.SGD(model.parameters(), lr=learning_rate, momentum=0.9)"
   ]
  },
  {
   "cell_type": "code",
   "execution_count": 338,
   "id": "53e39eaf",
   "metadata": {},
   "outputs": [
    {
     "name": "stdout",
     "output_type": "stream",
     "text": [
      "Training Complete\n"
     ]
    }
   ],
   "source": [
    "# Train Model\n",
    "num_epochs = 100\n",
    "loss_values = []\n",
    "\n",
    "\n",
    "for epoch in range(num_epochs):\n",
    "    for X, y in train_dataloader:\n",
    "        # zero the parameter gradients\n",
    "        optimizer.zero_grad()\n",
    "       \n",
    "        # forward + backward + optimize\n",
    "        pred = model(X)\n",
    "        loss = loss_fn(pred, y.unsqueeze(-1))\n",
    "        loss_values.append(loss.item())\n",
    "        loss.backward()\n",
    "        optimizer.step()\n",
    "\n",
    "print(\"Training Complete\")"
   ]
  },
  {
   "cell_type": "code",
   "execution_count": 339,
   "id": "d8f39f29",
   "metadata": {},
   "outputs": [
    {
     "data": {
      "image/png": "[encoded data removed]",
      "text/plain": [
       "<Figure size 800x500 with 1 Axes>"
      ]
     },
     "metadata": {},
     "output_type": "display_data"
    }
   ],
   "source": [
    "# Show Loss\n",
    "step = np.linspace(0, 100, 13400)\n",
    "\n",
    "fig, ax = plt.subplots(figsize=(8,5))\n",
    "plt.plot(step, np.array(loss_values))\n",
    "plt.title(\"Step-wise Loss\")\n",
    "plt.xlabel(\"Epochs\")\n",
    "plt.ylabel(\"Loss\")\n",
    "plt.show()"
   ]
  },
  {
   "cell_type": "code",
   "execution_count": 340,
   "id": "fe920150",
   "metadata": {},
   "outputs": [
    {
     "name": "stdout",
     "output_type": "stream",
     "text": [
      "Accuracy of the network on the 3300 test instances: 81%\n"
     ]
    }
   ],
   "source": [
    "# Accuracy Calculation\n",
    "y_pred = []\n",
    "y_test = []\n",
    "with torch.no_grad():\n",
    "    for X, y in test_dataloader:\n",
    "        outputs = model(X)\n",
    "        predicted = np.where(outputs < 0.5, 0, 1)\n",
    "        predicted = list(itertools.chain(*predicted))\n",
    "        y_pred.append(predicted)\n",
    "        y_test.append(y)\n",
    "        total += y.size(0)\n",
    "        correct += (predicted == y.numpy()).sum().item()\n",
    "\n",
    "print(f'Accuracy of the network on the 3300 test instances: {100 * correct // total}%')"
   ]
  },
  {
   "cell_type": "code",
   "execution_count": 341,
   "id": "f8000330",
   "metadata": {},
   "outputs": [
    {
     "name": "stdout",
     "output_type": "stream",
     "text": [
      "              precision    recall  f1-score   support\n",
      "\n",
      "         0.0       0.88      0.91      0.89      1429\n",
      "         1.0       0.64      0.56      0.60       404\n",
      "\n",
      "    accuracy                           0.83      1833\n",
      "   macro avg       0.76      0.73      0.75      1833\n",
      "weighted avg       0.83      0.83      0.83      1833\n",
      "\n"
     ]
    }
   ],
   "source": [
    "# Classification Report\n",
    "y_pred = list(itertools.chain(*y_pred))\n",
    "y_test = list(itertools.chain(*y_test))\n",
    "\n",
    "\n",
    "print(classification_report(y_test, y_pred))"
   ]
  },
  {
   "cell_type": "code",
   "execution_count": 342,
   "id": "9753ab16",
   "metadata": {},
   "outputs": [
    {
     "data": {
      "image/png": "[encoded data removed]",
      "text/plain": [
       "<Figure size 800x500 with 1 Axes>"
      ]
     },
     "metadata": {},
     "output_type": "display_data"
    }
   ],
   "source": [
    "# Confusion Matrix\n",
    "cf_matrix = confusion_matrix(y_test, y_pred)\n",
    "\n",
    "plt.subplots(figsize=(8, 5))\n",
    "\n",
    "sns.heatmap(cf_matrix, annot=True, cbar=False, fmt=\"g\")\n",
    "\n",
    "plt.show()"
   ]
  },
  {
   "cell_type": "code",
   "execution_count": 383,
   "id": "507a41e4",
   "metadata": {},
   "outputs": [
    {
     "data": {
      "text/html": [
       "<div>\n",
       "<style scoped>\n",
       "    .dataframe tbody tr th:only-of-type {\n",
       "        vertical-align: middle;\n",
       "    }\n",
       "\n",
       "    .dataframe tbody tr th {\n",
       "        vertical-align: top;\n",
       "    }\n",
       "\n",
       "    .dataframe thead th {\n",
       "        text-align: right;\n",
       "    }\n",
       "</style>\n",
       "<table border=\"1\" class=\"dataframe\">\n",
       "  <thead>\n",
       "    <tr style=\"text-align: right;\">\n",
       "      <th></th>\n",
       "      <th>age</th>\n",
       "      <th>hypertension</th>\n",
       "      <th>heart_disease</th>\n",
       "      <th>avg_glucose_level</th>\n",
       "      <th>bmi</th>\n",
       "      <th>stroke</th>\n",
       "      <th>gender_Female</th>\n",
       "      <th>gender_Male</th>\n",
       "      <th>gender_Other</th>\n",
       "    </tr>\n",
       "  </thead>\n",
       "  <tbody>\n",
       "    <tr>\n",
       "      <th>0</th>\n",
       "      <td>67.0</td>\n",
       "      <td>0</td>\n",
       "      <td>1</td>\n",
       "      <td>228.69</td>\n",
       "      <td>36.6</td>\n",
       "      <td>1</td>\n",
       "      <td>0</td>\n",
       "      <td>1</td>\n",
       "      <td>0</td>\n",
       "    </tr>\n",
       "    <tr>\n",
       "      <th>2</th>\n",
       "      <td>80.0</td>\n",
       "      <td>0</td>\n",
       "      <td>1</td>\n",
       "      <td>105.92</td>\n",
       "      <td>32.5</td>\n",
       "      <td>1</td>\n",
       "      <td>0</td>\n",
       "      <td>1</td>\n",
       "      <td>0</td>\n",
       "    </tr>\n",
       "    <tr>\n",
       "      <th>3</th>\n",
       "      <td>49.0</td>\n",
       "      <td>0</td>\n",
       "      <td>0</td>\n",
       "      <td>171.23</td>\n",
       "      <td>34.4</td>\n",
       "      <td>1</td>\n",
       "      <td>1</td>\n",
       "      <td>0</td>\n",
       "      <td>0</td>\n",
       "    </tr>\n",
       "    <tr>\n",
       "      <th>4</th>\n",
       "      <td>79.0</td>\n",
       "      <td>1</td>\n",
       "      <td>0</td>\n",
       "      <td>174.12</td>\n",
       "      <td>24.0</td>\n",
       "      <td>1</td>\n",
       "      <td>1</td>\n",
       "      <td>0</td>\n",
       "      <td>0</td>\n",
       "    </tr>\n",
       "    <tr>\n",
       "      <th>5</th>\n",
       "      <td>81.0</td>\n",
       "      <td>0</td>\n",
       "      <td>0</td>\n",
       "      <td>186.21</td>\n",
       "      <td>29.0</td>\n",
       "      <td>1</td>\n",
       "      <td>0</td>\n",
       "      <td>1</td>\n",
       "      <td>0</td>\n",
       "    </tr>\n",
       "  </tbody>\n",
       "</table>\n",
       "</div>"
      ],
      "text/plain": [
       "    age  hypertension  heart_disease  avg_glucose_level   bmi  stroke  \\\n",
       "0  67.0             0              1             228.69  36.6       1   \n",
       "2  80.0             0              1             105.92  32.5       1   \n",
       "3  49.0             0              0             171.23  34.4       1   \n",
       "4  79.0             1              0             174.12  24.0       1   \n",
       "5  81.0             0              0             186.21  29.0       1   \n",
       "\n",
       "   gender_Female  gender_Male  gender_Other  \n",
       "0              0            1             0  \n",
       "2              0            1             0  \n",
       "3              1            0             0  \n",
       "4              1            0             0  \n",
       "5              0            1             0  "
      ]
     },
     "execution_count": 383,
     "metadata": {},
     "output_type": "execute_result"
    }
   ],
   "source": [
    "# Dropping all Lifestyle Features\n",
    "X_df_nl = df\n",
    "X_df_nl = X_df_nl.drop(\"Residence_type_Rural\", axis=1)\n",
    "X_df_nl = X_df_nl.drop(\"Residence_type_Urban\", axis=1)\n",
    "X_df_nl = X_df_nl.drop(\"ever_married_No\", axis=1)\n",
    "X_df_nl = X_df_nl.drop(\"ever_married_Yes\", axis=1)\n",
    "X_df_nl = X_df_nl.drop(\"smoking_status_Unknown\", axis=1)\n",
    "X_df_nl = X_df_nl.drop(\"smoking_status_formerly smoked\", axis=1)\n",
    "X_df_nl = X_df_nl.drop(\"smoking_status_never smoked\", axis=1)\n",
    "X_df_nl = X_df_nl.drop(\"smoking_status_smokes\", axis=1)\n",
    "X_df_nl = X_df_nl.drop(\"work_type_Govt_job\", axis=1)\n",
    "X_df_nl = X_df_nl.drop(\"work_type_Never_worked\", axis=1)\n",
    "X_df_nl = X_df_nl.drop(\"work_type_Private\", axis=1)\n",
    "X_df_nl = X_df_nl.drop(\"work_type_Self-employed\", axis=1)\n",
    "X_df_nl = X_df_nl.drop(\"work_type_children\", axis=1)\n",
    "X_df_nl.head()"
   ]
  },
  {
   "cell_type": "code",
   "execution_count": 384,
   "id": "84fe96d8",
   "metadata": {},
   "outputs": [
    {
     "data": {
      "text/html": [
       "<div>\n",
       "<style scoped>\n",
       "    .dataframe tbody tr th:only-of-type {\n",
       "        vertical-align: middle;\n",
       "    }\n",
       "\n",
       "    .dataframe tbody tr th {\n",
       "        vertical-align: top;\n",
       "    }\n",
       "\n",
       "    .dataframe thead th {\n",
       "        text-align: right;\n",
       "    }\n",
       "</style>\n",
       "<table border=\"1\" class=\"dataframe\">\n",
       "  <thead>\n",
       "    <tr style=\"text-align: right;\">\n",
       "      <th></th>\n",
       "      <th>age</th>\n",
       "      <th>hypertension</th>\n",
       "      <th>heart_disease</th>\n",
       "      <th>avg_glucose_level</th>\n",
       "      <th>bmi</th>\n",
       "      <th>gender_Female</th>\n",
       "      <th>gender_Male</th>\n",
       "      <th>gender_Other</th>\n",
       "    </tr>\n",
       "  </thead>\n",
       "  <tbody>\n",
       "    <tr>\n",
       "      <th>0</th>\n",
       "      <td>67.0</td>\n",
       "      <td>0</td>\n",
       "      <td>1</td>\n",
       "      <td>228.69</td>\n",
       "      <td>36.6</td>\n",
       "      <td>0</td>\n",
       "      <td>1</td>\n",
       "      <td>0</td>\n",
       "    </tr>\n",
       "    <tr>\n",
       "      <th>2</th>\n",
       "      <td>80.0</td>\n",
       "      <td>0</td>\n",
       "      <td>1</td>\n",
       "      <td>105.92</td>\n",
       "      <td>32.5</td>\n",
       "      <td>0</td>\n",
       "      <td>1</td>\n",
       "      <td>0</td>\n",
       "    </tr>\n",
       "    <tr>\n",
       "      <th>3</th>\n",
       "      <td>49.0</td>\n",
       "      <td>0</td>\n",
       "      <td>0</td>\n",
       "      <td>171.23</td>\n",
       "      <td>34.4</td>\n",
       "      <td>1</td>\n",
       "      <td>0</td>\n",
       "      <td>0</td>\n",
       "    </tr>\n",
       "    <tr>\n",
       "      <th>4</th>\n",
       "      <td>79.0</td>\n",
       "      <td>1</td>\n",
       "      <td>0</td>\n",
       "      <td>174.12</td>\n",
       "      <td>24.0</td>\n",
       "      <td>1</td>\n",
       "      <td>0</td>\n",
       "      <td>0</td>\n",
       "    </tr>\n",
       "    <tr>\n",
       "      <th>5</th>\n",
       "      <td>81.0</td>\n",
       "      <td>0</td>\n",
       "      <td>0</td>\n",
       "      <td>186.21</td>\n",
       "      <td>29.0</td>\n",
       "      <td>0</td>\n",
       "      <td>1</td>\n",
       "      <td>0</td>\n",
       "    </tr>\n",
       "  </tbody>\n",
       "</table>\n",
       "</div>"
      ],
      "text/plain": [
       "    age  hypertension  heart_disease  avg_glucose_level   bmi  gender_Female  \\\n",
       "0  67.0             0              1             228.69  36.6              0   \n",
       "2  80.0             0              1             105.92  32.5              0   \n",
       "3  49.0             0              0             171.23  34.4              1   \n",
       "4  79.0             1              0             174.12  24.0              1   \n",
       "5  81.0             0              0             186.21  29.0              0   \n",
       "\n",
       "   gender_Male  gender_Other  \n",
       "0            1             0  \n",
       "2            1             0  \n",
       "3            0             0  \n",
       "4            0             0  \n",
       "5            1             0  "
      ]
     },
     "execution_count": 384,
     "metadata": {},
     "output_type": "execute_result"
    }
   ],
   "source": [
    "Y_df_nl = X_df_nl['stroke']\n",
    "X_df_nl = X_df_nl.drop(\"stroke\", axis=1)\n",
    "X_df_nl.head()"
   ]
  },
  {
   "cell_type": "code",
   "execution_count": 385,
   "id": "41e9f64d",
   "metadata": {},
   "outputs": [
    {
     "data": {
      "text/plain": [
       "(6110, 8)"
      ]
     },
     "execution_count": 385,
     "metadata": {},
     "output_type": "execute_result"
    }
   ],
   "source": [
    "oversample = RandomOverSampler(sampling_strategy=0.30)\n",
    "X_df_nl, Y_df_nl = oversample.fit_resample(X_df_nl, Y_df_nl)\n",
    "X_df_nl.head()\n",
    "X_df_nl.shape"
   ]
  },
  {
   "cell_type": "code",
   "execution_count": 386,
   "id": "acd339d6",
   "metadata": {},
   "outputs": [
    {
     "name": "stdout",
     "output_type": "stream",
     "text": [
      "Samples in Train Set: 4277\n",
      "Samples in Test Set: 1833\n",
      "Initial Dataset\n",
      "Percent \"stroke\": 0.22726209960252514\n",
      "Balanced Dataset\n",
      "Percent \"stroke\": 0.5\n"
     ]
    }
   ],
   "source": [
    "# Neural Network Load Data -- ALL FEATURES\n",
    "(X_train, X_test, y_train, y_test) = train_test_split(X_df_nl, Y_df_nl, test_size=0.30)\n",
    "\n",
    "scaler = StandardScaler()\n",
    "X_train = scaler.fit_transform(X_train)\n",
    "X_test = scaler.fit_transform(X_test)\n",
    "#displays the amount of samples in each dataset\n",
    "print('Samples in Train Set:', len(X_train))\n",
    "print('Samples in Test Set:', len(X_test))\n",
    "\n",
    "\n",
    "#Displays perccent of each class\n",
    "print('Initial Dataset')\n",
    "print('Percent \"stroke\":', y_train.sum()/len(y_train))\n",
    "print('Balanced Dataset')\n",
    "print('Percent \"stroke\":', y_bal.sum()/len(y_bal))"
   ]
  },
  {
   "cell_type": "code",
   "execution_count": 387,
   "id": "f52fee48",
   "metadata": {},
   "outputs": [],
   "source": [
    "# Convert data to torch tensors\n",
    "#X_train = X_train.to_numpy()\n",
    "#y_train = y_bal\n",
    "#X_train = X_bal\n",
    "\n",
    "y_train = np.array(y_train)\n",
    "X_train = np.array(X_train)\n",
    "X_test = np.array(X_test)\n",
    "y_test = np.array(y_test)"
   ]
  },
  {
   "cell_type": "code",
   "execution_count": 388,
   "id": "9b23cd22",
   "metadata": {},
   "outputs": [],
   "source": [
    "class Data(Dataset):\n",
    "    def __init__(self, X, y):\n",
    "        self.X = torch.from_numpy(X.astype(np.float32))\n",
    "        self.y = torch.from_numpy(y.astype(np.float32))\n",
    "        self.len = self.X.shape[0]\n",
    "       \n",
    "    def __getitem__(self, index):\n",
    "        return self.X[index], self.y[index]\n",
    "   \n",
    "    def __len__(self):\n",
    "        return self.len"
   ]
  },
  {
   "cell_type": "code",
   "execution_count": 389,
   "id": "ccd2d2a2",
   "metadata": {},
   "outputs": [],
   "source": [
    "# Create Dataloader\n",
    "train_data = Data(X_train, y_train)\n",
    "train_dataloader = DataLoader(dataset=train_data, batch_size=32, shuffle=True)\n",
    "\n",
    "test_data = Data(X_test, y_test)\n",
    "test_dataloader = DataLoader(dataset=test_data, batch_size=32, shuffle=True)"
   ]
  },
  {
   "cell_type": "code",
   "execution_count": 390,
   "id": "62c8b950",
   "metadata": {},
   "outputs": [],
   "source": [
    "# Design Neural Network\n",
    "n_input = 8\n",
    "n_hidden = 6\n",
    "n_out = 1\n",
    "\n",
    "model = nn.Sequential(nn.Linear(n_input, n_hidden),\n",
    "                      nn.ReLU(),\n",
    "                      nn.Linear(n_hidden, n_out),\n",
    "                      nn.Sigmoid())"
   ]
  },
  {
   "cell_type": "code",
   "execution_count": 391,
   "id": "14258184",
   "metadata": {},
   "outputs": [],
   "source": [
    "# Data Set is imbalanced so need to add weights for classes to loss function\n",
    "# Positive Weight = 1 - (209/4909) = 0.9575\n",
    "# Negative Weight = 1 - (4700/4909) = 0.0426\n",
    "# class_weights = torch.tensor([0.10])\n",
    "\n",
    "learning_rate = 0.01\n",
    "\n",
    "loss_fn = nn.MSELoss()\n",
    "\n",
    "optimizer = torch.optim.SGD(model.parameters(), lr=learning_rate, momentum=0.9)"
   ]
  },
  {
   "cell_type": "code",
   "execution_count": 392,
   "id": "18fb5bf1",
   "metadata": {},
   "outputs": [
    {
     "name": "stdout",
     "output_type": "stream",
     "text": [
      "Training Complete\n"
     ]
    }
   ],
   "source": [
    "# Train Model\n",
    "num_epochs = 100\n",
    "loss_values = []\n",
    "\n",
    "\n",
    "for epoch in range(num_epochs):\n",
    "    for X, y in train_dataloader:\n",
    "        # zero the parameter gradients\n",
    "        optimizer.zero_grad()\n",
    "       \n",
    "        # forward + backward + optimize\n",
    "        pred = model(X)\n",
    "        loss = loss_fn(pred, y.unsqueeze(-1))\n",
    "        loss_values.append(loss.item())\n",
    "        loss.backward()\n",
    "        optimizer.step()\n",
    "\n",
    "print(\"Training Complete\")"
   ]
  },
  {
   "cell_type": "code",
   "execution_count": 393,
   "id": "ca7ac35d",
   "metadata": {},
   "outputs": [
    {
     "data": {
      "image/png": "[encoded data removed]",
      "text/plain": [
       "<Figure size 800x500 with 1 Axes>"
      ]
     },
     "metadata": {},
     "output_type": "display_data"
    }
   ],
   "source": [
    "# Show Loss\n",
    "step = np.linspace(0, 100, 13400)\n",
    "\n",
    "fig, ax = plt.subplots(figsize=(8,5))\n",
    "plt.plot(step, np.array(loss_values))\n",
    "plt.title(\"Step-wise Loss\")\n",
    "plt.xlabel(\"Epochs\")\n",
    "plt.ylabel(\"Loss\")\n",
    "plt.show()"
   ]
  },
  {
   "cell_type": "code",
   "execution_count": 394,
   "id": "1dfe36fe",
   "metadata": {},
   "outputs": [
    {
     "name": "stdout",
     "output_type": "stream",
     "text": [
      "Accuracy of the network on the 3300 test instances: 81%\n"
     ]
    }
   ],
   "source": [
    "# Accuracy Calculation\n",
    "y_pred = []\n",
    "y_test = []\n",
    "with torch.no_grad():\n",
    "    for X, y in test_dataloader:\n",
    "        outputs = model(X)\n",
    "        predicted = np.where(outputs < 0.5, 0, 1)\n",
    "        predicted = list(itertools.chain(*predicted))\n",
    "        y_pred.append(predicted)\n",
    "        y_test.append(y)\n",
    "        total += y.size(0)\n",
    "        correct += (predicted == y.numpy()).sum().item()\n",
    "\n",
    "print(f'Accuracy of the network on the 3300 test instances: {100 * correct // total}%')"
   ]
  },
  {
   "cell_type": "code",
   "execution_count": 395,
   "id": "043df5ce",
   "metadata": {},
   "outputs": [
    {
     "name": "stdout",
     "output_type": "stream",
     "text": [
      "              precision    recall  f1-score   support\n",
      "\n",
      "         0.0       0.86      0.90      0.88      1395\n",
      "         1.0       0.64      0.53      0.58       438\n",
      "\n",
      "    accuracy                           0.82      1833\n",
      "   macro avg       0.75      0.72      0.73      1833\n",
      "weighted avg       0.81      0.82      0.81      1833\n",
      "\n"
     ]
    }
   ],
   "source": [
    "# Classification Report\n",
    "y_pred = list(itertools.chain(*y_pred))\n",
    "y_test = list(itertools.chain(*y_test))\n",
    "\n",
    "\n",
    "print(classification_report(y_test, y_pred))"
   ]
  },
  {
   "cell_type": "code",
   "execution_count": 396,
   "id": "04e80f8f",
   "metadata": {},
   "outputs": [
    {
     "data": {
      "image/png": "[encoded data removed]",
      "text/plain": [
       "<Figure size 800x500 with 1 Axes>"
      ]
     },
     "metadata": {},
     "output_type": "display_data"
    }
   ],
   "source": [
    "# Confusion Matrix\n",
    "cf_matrix = confusion_matrix(y_test, y_pred)\n",
    "\n",
    "plt.subplots(figsize=(8, 5))\n",
    "\n",
    "sns.heatmap(cf_matrix, annot=True, cbar=False, fmt=\"g\")\n",
    "\n",
    "plt.show()"
   ]
  },
  {
   "cell_type": "code",
   "execution_count": null,
   "id": "4d853778",
   "metadata": {},
   "outputs": [],
   "source": []
  }
 ],
 "metadata": {
  "kernelspec": {
   "display_name": "Python 3 (ipykernel)",
   "language": "python",
   "name": "python3"
  },
  "language_info": {
   "codemirror_mode": {
    "name": "ipython",
    "version": 3
   },
   "file_extension": ".py",
   "mimetype": "text/x-python",
   "name": "python",
   "nbconvert_exporter": "python",
   "pygments_lexer": "ipython3",
   "version": "3.10.8"
  }
 },
 "nbformat": 4,
 "nbformat_minor": 5
}
